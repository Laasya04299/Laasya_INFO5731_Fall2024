{
 "cells": [
  {
   "cell_type": "markdown",
   "metadata": {
    "id": "DymRJbxDBCnf"
   },
   "source": [
    "# **INFO5731 Exercise 1**\n",
    "\n",
    "This exercise covers a variety of fundamental concepts in Python and is designed to help students improve their coding skills and problem-solving abilities.\n",
    "\n",
    "**Expectations**:\n",
    "*   Students are expected to complete the exercise during lecture period to meet the active participation criteria of the course.\n",
    "*   Use the provided .*ipynb* document to write your code & respond to the questions. Avoid generating a new file.\n",
    "*   Write complete answers and run all the cells before submission.\n",
    "*   Make sure the submission is \"clean\"; *i.e.*, no unnecessary code cells.\n",
    "*   Once finished, allow shared rights from top right corner (*see Canvas for details*).\n",
    "\n",
    "**Total points**: 40\n",
    "\n",
    "**Deadline**: This in-class exercise is due at the end of the day tomorrow, at 11:59 PM.\n",
    "\n",
    "**Late submissions cannot be considered, and no requests will be answered. Manage your time accordingly.**\n"
   ]
  },
  {
   "cell_type": "markdown",
   "metadata": {
    "id": "FBKvD6O_TY6e"
   },
   "source": [
    "## Question 1\n",
    "Write a Python program that  prompts the user to input the length and width of a rectangle, and then calculates and displays the area of the rectangle."
   ]
  },
  {
   "cell_type": "code",
   "execution_count": 1,
   "metadata": {
    "colab": {
     "base_uri": "https://localhost:8080/",
     "height": 88
    },
    "id": "cikVKDXdTbzE",
    "outputId": "2f61a1db-d331-4db1-c40f-bdc4f232f5e7"
   },
   "outputs": [
    {
     "name": "stdout",
     "output_type": "stream",
     "text": [
      "Enter the length of the rectangle: 12\n",
      "Enter the width of the rectangle: 9\n",
      "The area of the rectangle is 108.0 square units.\n"
     ]
    },
    {
     "data": {
      "application/vnd.google.colaboratory.intrinsic+json": {
       "type": "string"
      },
      "text/plain": [
       "'ABRACADABRA'"
      ]
     },
     "execution_count": 1,
     "metadata": {},
     "output_type": "execute_result"
    }
   ],
   "source": [
    "# write your answer here\n",
    "def main():\n",
    "\n",
    "    length = float(input(\"Enter the length of the rectangle: \"))\n",
    "    width = float(input(\"Enter the width of the rectangle: \"))\n",
    "\n",
    "    area = length * width\n",
    "\n",
    "    print(f\"The area of the rectangle is {area} square units.\")\n",
    "\n",
    "if __name__ == \"__main__\":\n",
    "    main()\n",
    "\n",
    "a=\"abracadabra\"\n",
    "a.upper()"
   ]
  },
  {
   "cell_type": "markdown",
   "metadata": {
    "id": "E9RqrlwdTfvl"
   },
   "source": [
    "## Question 2\n",
    "Create a Python program that interactively takes two numerical inputs from the user and swaps their values without utilizing an extra variable."
   ]
  },
  {
   "cell_type": "code",
   "execution_count": 2,
   "metadata": {
    "colab": {
     "base_uri": "https://localhost:8080/"
    },
    "id": "4XvRknixTh1g",
    "outputId": "41ee59e8-59eb-4c7d-e4ee-79bcdb431f4e"
   },
   "outputs": [
    {
     "name": "stdout",
     "output_type": "stream",
     "text": [
      "Enter the first number: 1\n",
      "Enter the second number: 2\n",
      "After swapping:\n",
      "First number: 2.0\n",
      "Second number: 1.0\n"
     ]
    }
   ],
   "source": [
    "# write your answer here\n",
    "def main():\n",
    "\n",
    "    a = float(input(\"Enter the first number: \"))\n",
    "    b = float(input(\"Enter the second number: \"))\n",
    "    a, b = b, a\n",
    "    print(\"After swapping:\")\n",
    "    print(f\"First number: {a}\")\n",
    "    print(f\"Second number: {b}\")\n",
    "\n",
    "if __name__ == \"__main__\":\n",
    "    main()\n"
   ]
  },
  {
   "cell_type": "markdown",
   "metadata": {
    "id": "03jb4GZsBkBS"
   },
   "source": [
    "## Question 3\n",
    "Write a Python script to determine and print the length of a user-input string."
   ]
  },
  {
   "cell_type": "code",
   "execution_count": 3,
   "metadata": {
    "colab": {
     "base_uri": "https://localhost:8080/"
    },
    "id": "YaGLbSHHB8Ej",
    "outputId": "c571ed6e-9c8e-469f-9524-36c7142e256b"
   },
   "outputs": [
    {
     "name": "stdout",
     "output_type": "stream",
     "text": [
      "Enter a string: we\n",
      "The length of the entered string is: 2\n"
     ]
    }
   ],
   "source": [
    "# write your answer here\n",
    "def main():\n",
    "\n",
    "    user_string = input(\"Enter a string: \")\n",
    "\n",
    "    string_length = len(user_string)\n",
    "\n",
    "    print(f\"The length of the entered string is: {string_length}\")\n",
    "\n",
    "if __name__ == \"__main__\":\n",
    "    main()\n",
    "\n"
   ]
  },
  {
   "cell_type": "markdown",
   "metadata": {
    "id": "jJDe71iLB616"
   },
   "source": [
    "## Question 4\n",
    "Construct a Python program that counts and displays the occurrences of each character in a given string.\n",
    "\n",
    "Sample String: 'openai.ai',\n",
    "\n",
    "Expected Result: {'a': 2, 'i': 2, '.': 1, 'o': 1, 'p': 1, 'e': 1, 'n': 1}"
   ]
  },
  {
   "cell_type": "code",
   "execution_count": 4,
   "metadata": {
    "colab": {
     "base_uri": "https://localhost:8080/"
    },
    "id": "MtKskTzbCLaU",
    "outputId": "b6effb04-3706-4540-b7f6-7b06242ec9a3"
   },
   "outputs": [
    {
     "name": "stdout",
     "output_type": "stream",
     "text": [
      "Enter a string: were\n",
      "Character occurrences in the string:\n",
      "{'w': 1, 'e': 2, 'r': 1}\n"
     ]
    }
   ],
   "source": [
    "# write your answer here\n",
    "def main():\n",
    "\n",
    "    user_string = input(\"Enter a string: \")\n",
    "\n",
    "\n",
    "    char_count = {}\n",
    "\n",
    "\n",
    "    for char in user_string:\n",
    "        if char in char_count:\n",
    "            char_count[char] += 1\n",
    "        else:\n",
    "            char_count[char] = 1\n",
    "\n",
    "    print(\"Character occurrences in the string:\")\n",
    "    print(char_count)\n",
    "\n",
    "if __name__ == \"__main__\":\n",
    "    main()\n",
    "\n"
   ]
  },
  {
   "cell_type": "markdown",
   "metadata": {
    "id": "55W9AMdXCSpV"
   },
   "source": [
    "## Question 5\n",
    "Design a Python code to calculate the sum of all elements in a user-provided list."
   ]
  },
  {
   "cell_type": "code",
   "execution_count": 5,
   "metadata": {
    "colab": {
     "base_uri": "https://localhost:8080/"
    },
    "id": "I57NXsauCec2",
    "outputId": "e901c52a-a6f9-40c4-a819-a1e8c18b3767"
   },
   "outputs": [
    {
     "name": "stdout",
     "output_type": "stream",
     "text": [
      "Enter numbers separated by spaces: 123 45 \n",
      "The sum of all elements in the list is: 168.0\n"
     ]
    }
   ],
   "source": [
    "# write your answer here\n",
    "def main():\n",
    "    user_input = input(\"Enter numbers separated by spaces: \")\n",
    "\n",
    "    numbers = list(map(float, user_input.split()))\n",
    "\n",
    "    total_sum = sum(numbers)\n",
    "\n",
    "\n",
    "    print(f\"The sum of all elements in the list is: {total_sum}\")\n",
    "\n",
    "if __name__ == \"__main__\":\n",
    "    main()\n",
    "\n"
   ]
  },
  {
   "cell_type": "markdown",
   "metadata": {
    "id": "4ulBZ6yhCi9F"
   },
   "source": [
    "## Question 6\n",
    "Write a Python program that modifies a given string by replacing all occurrences of its first character with '$', excluding the first character itself.\n",
    "\n",
    "\n",
    "Sample String : 'restart‘\n",
    "Expected Result : 'resta\\$t'"
   ]
  },
  {
   "cell_type": "code",
   "execution_count": 6,
   "metadata": {
    "colab": {
     "base_uri": "https://localhost:8080/"
    },
    "id": "Fj0XhwbBCw2o",
    "outputId": "ff634334-4de2-44de-a501-70a974baea8b"
   },
   "outputs": [
    {
     "name": "stdout",
     "output_type": "stream",
     "text": [
      "Enter a string: hi\n",
      "Modified string: hi\n"
     ]
    }
   ],
   "source": [
    "# write your answer here\n",
    "def main():\n",
    "    user_string = input(\"Enter a string: \")\n",
    "\n",
    "    first_char = user_string[0]\n",
    "\n",
    "    modified_string = first_char + user_string[1:].replace(first_char, '$')\n",
    "\n",
    "    print(\"Modified string:\", modified_string)\n",
    "\n",
    "if __name__ == \"__main__\":\n",
    "    main()\n",
    "\n"
   ]
  },
  {
   "cell_type": "markdown",
   "metadata": {
    "id": "qVXA3q7ET5JI"
   },
   "source": [
    "## Question 7\n",
    "Write a Python program using a while loop to compute the factorial of a user-supplied number."
   ]
  },
  {
   "cell_type": "code",
   "execution_count": 7,
   "metadata": {
    "colab": {
     "base_uri": "https://localhost:8080/"
    },
    "id": "Lbt7R6UkT7BA",
    "outputId": "c1140d75-708f-4188-fbd8-5b91ce2e045c"
   },
   "outputs": [
    {
     "name": "stdout",
     "output_type": "stream",
     "text": [
      "Enter a non-negative integer to calculate its factorial: 4\n",
      "The factorial of 4 is 24\n"
     ]
    }
   ],
   "source": [
    "# write your answer here\n",
    "def main():\n",
    "    number = int(input(\"Enter a non-negative integer to calculate its factorial: \"))\n",
    "\n",
    "    if number < 0:\n",
    "        print(\"Factorial is not defined for negative numbers.\")\n",
    "        return\n",
    "\n",
    "    factorial = 1\n",
    "\n",
    "    counter = number\n",
    "\n",
    "    while counter > 1:\n",
    "        factorial *= counter\n",
    "        counter -= 1\n",
    "\n",
    "    print(f\"The factorial of {number} is {factorial}\")\n",
    "\n",
    "if __name__ == \"__main__\":\n",
    "    main()\n"
   ]
  },
  {
   "cell_type": "markdown",
   "metadata": {
    "id": "6YfbzXMNT--R"
   },
   "source": [
    "## Question 8\n",
    "Create a program that accepts a list of numbers as input and outputs a new list containing only the even numbers."
   ]
  },
  {
   "cell_type": "code",
   "execution_count": 8,
   "metadata": {
    "colab": {
     "base_uri": "https://localhost:8080/"
    },
    "id": "54q7wMQPUAKu",
    "outputId": "607b53e6-decc-4f91-ec8f-15a913d14335"
   },
   "outputs": [
    {
     "name": "stdout",
     "output_type": "stream",
     "text": [
      "Enter numbers separated by spaces: 4 5 6\n",
      "Even numbers from the list: [4, 6]\n"
     ]
    }
   ],
   "source": [
    "# write your answer here\n",
    "def main():\n",
    "\n",
    "    user_input = input(\"Enter numbers separated by spaces: \")\n",
    "\n",
    "    numbers = list(map(int, user_input.split()))\n",
    "\n",
    "    even_numbers = [num for num in numbers if num % 2 == 0]\n",
    "\n",
    "    print(\"Even numbers from the list:\", even_numbers)\n",
    "\n",
    "if __name__ == \"__main__\":\n",
    "    main()\n"
   ]
  },
  {
   "cell_type": "markdown",
   "metadata": {
    "id": "_bIP7s1MCzue"
   },
   "source": [
    "## Question 9\n",
    "Design a Python function to check if a number is prime.\n"
   ]
  },
  {
   "cell_type": "code",
   "execution_count": 9,
   "metadata": {
    "colab": {
     "base_uri": "https://localhost:8080/"
    },
    "id": "w79QilHXD3Mg",
    "outputId": "a51057af-4c46-4e7e-86ac-81ae2b572874"
   },
   "outputs": [
    {
     "name": "stdout",
     "output_type": "stream",
     "text": [
      "Enter a number to check if it is prime: 4\n",
      "4 is not a prime number.\n"
     ]
    }
   ],
   "source": [
    "# write your answer here\n",
    "def is_prime(n):\n",
    "    if n <= 1:\n",
    "        return False\n",
    "    for i in range(2, int(n**0.5) + 1):\n",
    "        if n % i == 0:\n",
    "            return False\n",
    "    return True\n",
    "number = int(input(\"Enter a number to check if it is prime: \"))\n",
    "result = is_prime(number)\n",
    "if result:\n",
    "    print(f\"{number} is a prime number.\")\n",
    "else:\n",
    "    print(f\"{number} is not a prime number.\")\n",
    "\n"
   ]
  },
  {
   "cell_type": "markdown",
   "metadata": {
    "id": "xCa2bK9aD4Q3"
   },
   "source": [
    "## Question 10\n",
    "Write a Python program to concatenate following dictionaries to create a new one.\n",
    "\n",
    "Sample Dictionary : dic1={1:10, 2:20}, dic2={3:30, 4:40}, dic3={5:50,6:60},\n",
    "\n",
    "Expected Result : {1: 10, 2: 20, 3: 30, 4: 40, 5: 50, 6: 60}\n"
   ]
  },
  {
   "cell_type": "code",
   "execution_count": 10,
   "metadata": {
    "colab": {
     "base_uri": "https://localhost:8080/"
    },
    "id": "_z4aLqAbEET1",
    "outputId": "0e3e224e-6fc9-488a-b00d-e636c6b50b53"
   },
   "outputs": [
    {
     "name": "stdout",
     "output_type": "stream",
     "text": [
      "Resulting Dictionary: {1: 10, 2: 20, 3: 30, 4: 40, 5: 50, 6: 60}\n"
     ]
    }
   ],
   "source": [
    "# write your answer here\n",
    "def main():\n",
    "    dic1 = {1: 10, 2: 20}\n",
    "    dic2 = {3: 30, 4: 40}\n",
    "    dic3 = {5: 50, 6: 60}\n",
    "    combined_dict = {}\n",
    "    for d in (dic1, dic2, dic3):\n",
    "        combined_dict.update(d)\n",
    "    print(\"Resulting Dictionary:\", combined_dict)\n",
    "if __name__ == \"__main__\":\n",
    "    main()\n"
   ]
  },
  {
   "cell_type": "markdown",
   "metadata": {
    "id": "bkyZ2xSZUOst"
   },
   "source": [
    "## Question 11\n",
    "Design a Python function that takes a tuple of integers as input and returns the largest and smallest elements."
   ]
  },
  {
   "cell_type": "code",
   "execution_count": 11,
   "metadata": {
    "colab": {
     "base_uri": "https://localhost:8080/"
    },
    "id": "3FdLRBKOUQEd",
    "outputId": "a3ede874-a4ec-48a2-e523-2f2e427a81ac"
   },
   "outputs": [
    {
     "name": "stdout",
     "output_type": "stream",
     "text": [
      "The smallest number is -5 and the largest number is 10\n"
     ]
    }
   ],
   "source": [
    "# write your answer here\n",
    "\n",
    "def find_min_max(numbers):\n",
    "    if not numbers:\n",
    "        return None\n",
    "    min_value = min(numbers)\n",
    "    max_value = max(numbers)\n",
    "    return (min_value, max_value)\n",
    "input_tuple = (5, 1, 8, 3, 2, -5, 10)\n",
    "result = find_min_max(input_tuple)\n",
    "if result:\n",
    "    print(f\"The smallest number is {result[0]} and the largest number is {result[1]}\")\n",
    "else:\n",
    "    print(\"The tuple is empty.\")\n"
   ]
  },
  {
   "cell_type": "markdown",
   "metadata": {
    "id": "O0TVi3gKUTpp"
   },
   "source": [
    "## Question 12\n",
    "Write a Python program that counts the frequency of each character in a given string and stores it in a dictionary."
   ]
  },
  {
   "cell_type": "code",
   "execution_count": 12,
   "metadata": {
    "colab": {
     "base_uri": "https://localhost:8080/"
    },
    "id": "lAtfSfZXUU-h",
    "outputId": "4104f8d0-d304-47df-ad81-56c826a7078c"
   },
   "outputs": [
    {
     "name": "stdout",
     "output_type": "stream",
     "text": [
      "Enter a string: hi\n",
      "Frequency of each character:\n",
      "h: 1\n",
      "i: 1\n"
     ]
    }
   ],
   "source": [
    "# write your answer here\n",
    "def main():\n",
    "    user_string = input(\"Enter a string: \")\n",
    "    char_frequency = {}\n",
    "    for char in user_string:\n",
    "        if char in char_frequency:\n",
    "            char_frequency[char] += 1\n",
    "        else:\n",
    "            char_frequency[char] = 1\n",
    "    print(\"Frequency of each character:\")\n",
    "    for char, count in char_frequency.items():\n",
    "        print(f\"{char}: {count}\")\n",
    "\n",
    "if __name__ == \"__main__\":\n",
    "    main()\n"
   ]
  },
  {
   "cell_type": "markdown",
   "metadata": {
    "id": "0v48Vqa7FrQh"
   },
   "source": [
    "## Question 13\n",
    "Implement a Python script to identify duplicate elements in a provided array of integers. Return -1 if there are no duplicates."
   ]
  },
  {
   "cell_type": "code",
   "execution_count": 13,
   "metadata": {
    "colab": {
     "base_uri": "https://localhost:8080/"
    },
    "id": "7WEmgq-DF2P1",
    "outputId": "3d069f41-275e-4fe1-de74-62cffe477a14"
   },
   "outputs": [
    {
     "name": "stdout",
     "output_type": "stream",
     "text": [
      "[8, 2, 3]\n"
     ]
    }
   ],
   "source": [
    "# write your answer here\n",
    "def find_duplicates(arr):\n",
    "    seen = set()\n",
    "    duplicates = set()\n",
    "\n",
    "    for number in arr:\n",
    "        if number in seen:\n",
    "            duplicates.add(number)\n",
    "        else:\n",
    "            seen.add(number)\n",
    "\n",
    "    if duplicates:\n",
    "        return list(duplicates)\n",
    "    else:\n",
    "        return -1\n",
    "input_array = [1, 2, 3, 4, 2, 7, 8, 8, 3]\n",
    "result = find_duplicates(input_array)\n",
    "print(result)\n",
    "\n"
   ]
  },
  {
   "cell_type": "markdown",
   "metadata": {
    "id": "vD5PYLMuGga_"
   },
   "source": [
    "## Question 14\n",
    "Write a Python script to find the common elements between two lists."
   ]
  },
  {
   "cell_type": "code",
   "execution_count": 14,
   "metadata": {
    "colab": {
     "base_uri": "https://localhost:8080/"
    },
    "id": "t0D5kdJUGjjw",
    "outputId": "537f65ce-73bf-4d4c-eee3-6024f06b5683"
   },
   "outputs": [
    {
     "name": "stdout",
     "output_type": "stream",
     "text": [
      "Common elements: [4, 5]\n"
     ]
    }
   ],
   "source": [
    "# write your answer here\n",
    "def find_common_elements(list1, list2):\n",
    "\n",
    "    set1 = set(list1)\n",
    "    set2 = set(list2)\n",
    "\n",
    "    common_elements = set1.intersection(set2)\n",
    "\n",
    "    return list(common_elements)\n",
    "\n",
    "list_a = [1, 2, 3, 4, 5]\n",
    "list_b = [4, 5, 6, 7, 8]\n",
    "result = find_common_elements(list_a, list_b)\n",
    "print(\"Common elements:\", result)\n",
    "\n"
   ]
  },
  {
   "cell_type": "markdown",
   "metadata": {
    "id": "uHkd-y5VhVWC"
   },
   "source": [
    "## Question 15\n",
    "Write a Python program to randomly divide the students in this class into maximum of eight groups for term projects, each group should have at least 4 students but no more than 6 students (including 6).\n",
    "\n",
    "Here is the students list:\n",
    "\n",
    "student_list_spring_2024=[rb0846,\n",
    "ac1964,\n",
    "hc0612,\n",
    "md0912,\n",
    "ad1198,\n",
    "md0894,\n",
    "md0825,\n",
    "vg0598,\n",
    "vg0433,\n",
    "mh1068,\n",
    "yj0173,\n",
    "pk0553,\n",
    "tk0411,\n",
    "srk0204,\n",
    "sk2922,\n",
    "sk2936,\n",
    "mk1302,\n",
    "mk1317,\n",
    "tk0412,\n",
    "vk0656,\n",
    "sm2985,\n",
    "mm2372,\n",
    "un0045,\n",
    "an0892,\n",
    "sn0913,\n",
    "gp0252,\n",
    "ap1484,\n",
    "mr1765,\n",
    "sr1385,\n",
    "sr1335,\n",
    "hs0665,\n",
    "ms2060,\n",
    "gt0217,\n",
    "nt0385,\n",
    "tv0186,\n",
    "sv1394,\n",
    "sv1752,\n",
    "sv1555,\n",
    "sy0594\n",
    "]\n"
   ]
  },
  {
   "cell_type": "code",
   "execution_count": 15,
   "metadata": {
    "colab": {
     "base_uri": "https://localhost:8080/"
    },
    "id": "3iGbmcOBhTwy",
    "outputId": "c3a88a2a-279e-4a23-f2d6-cfb402ca339b"
   },
   "outputs": [
    {
     "name": "stdout",
     "output_type": "stream",
     "text": [
      "Group 1 (4 students): ['ms2060', 'gp0252', 'vg0433', 'tv0186']\n",
      "Group 2 (4 students): ['md0894', 'ac1964', 'mk1317', 'sn0913']\n",
      "Group 3 (5 students): ['sv1555', 'pk0553', 'sm2985', 'mk1302', 'sv1752']\n",
      "Group 4 (5 students): ['hc0612', 'nt0385', 'sr1385', 'gt0217', 'mm2372']\n",
      "Group 5 (4 students): ['hs0665', 'md0825', 'an0892', 'sk2922']\n",
      "Group 6 (5 students): ['ad1198', 'un0045', 'sr1335', 'sy0594', 'srk0204']\n",
      "Group 7 (6 students): ['rb0846', 'vg0598', 'mr1765', 'tk0412', 'yj0173', 'tk0411']\n",
      "Group 8 (6 students): ['sk2936', 'sv1394', 'vk0656', 'md0912', 'ap1484', 'mh1068']\n"
     ]
    }
   ],
   "source": [
    "# write your answer here\n",
    "import random\n",
    "\n",
    "def divide_students(student_list, min_group_size=4, max_group_size=6):\n",
    "\n",
    "    random.shuffle(student_list)\n",
    "\n",
    "    groups = []\n",
    "    start_index = 0\n",
    "\n",
    "    while start_index < len(student_list):\n",
    "        if len(student_list) - start_index > max_group_size:\n",
    "            group_size = random.randint(min_group_size, max_group_size)\n",
    "        else:\n",
    "            group_size = len(student_list) - start_index\n",
    "\n",
    "            if group_size < min_group_size and groups:\n",
    "                previous_group = groups.pop()\n",
    "                group_size += len(previous_group)\n",
    "                start_index -= len(previous_group)\n",
    "\n",
    "\n",
    "        group = student_list[start_index:start_index + group_size]\n",
    "        groups.append(group)\n",
    "        start_index += group_size\n",
    "\n",
    "    return groups\n",
    "\n",
    "student_list_spring_2024 = [\"rb0846\", \"ac1964\", \"hc0612\", \"md0912\", \"ad1198\", \"md0894\", \"md0825\", \"vg0598\", \"vg0433\",\n",
    "                            \"mh1068\", \"yj0173\", \"pk0553\", \"tk0411\", \"srk0204\", \"sk2922\", \"sk2936\", \"mk1302\", \"mk1317\",\n",
    "                            \"tk0412\", \"vk0656\", \"sm2985\", \"mm2372\", \"un0045\", \"an0892\", \"sn0913\", \"gp0252\", \"ap1484\",\n",
    "                            \"mr1765\", \"sr1385\", \"sr1335\", \"hs0665\", \"ms2060\", \"gt0217\", \"nt0385\", \"tv0186\", \"sv1394\",\n",
    "                            \"sv1752\", \"sv1555\", \"sy0594\"]\n",
    "\n",
    "\n",
    "groups = divide_students(student_list_spring_2024)\n",
    "\n",
    "\n",
    "for index, group in enumerate(groups):\n",
    "    print(f\"Group {index + 1} ({len(group)} students): {group}\")\n",
    "\n"
   ]
  },
  {
   "cell_type": "markdown",
   "metadata": {
    "id": "fmZ9vX20Qs3d"
   },
   "source": [
    "## Question 16\n",
    "Create a program that takes a positive integer 'n' as input and prints the count of even numbers from 1 to 'n'. Optimize the loop using the continue statement."
   ]
  },
  {
   "cell_type": "code",
   "execution_count": 16,
   "metadata": {
    "colab": {
     "base_uri": "https://localhost:8080/"
    },
    "id": "W8Jw6sWMQs3d",
    "outputId": "9cb8076b-246a-490e-bd61-22884a2b7405"
   },
   "outputs": [
    {
     "name": "stdout",
     "output_type": "stream",
     "text": [
      "Enter a positive integer: 12\n",
      "The number of even numbers from 1 to 12 is 6.\n"
     ]
    }
   ],
   "source": [
    "# write your answer here\n",
    "def count_evens(n):\n",
    "    count = 0\n",
    "    for i in range(1, n + 1):\n",
    "        if i % 2 != 0:\n",
    "            continue\n",
    "        count += 1\n",
    "    return count\n",
    "n = int(input(\"Enter a positive integer: \"))\n",
    "\n",
    "if n <= 0:\n",
    "    print(\"Please enter a positive integer.\")\n",
    "else:\n",
    "\n",
    "    even_count = count_evens(n)\n",
    "    print(f\"The number of even numbers from 1 to {n} is {even_count}.\")\n",
    "\n"
   ]
  },
  {
   "cell_type": "markdown",
   "metadata": {
    "id": "hvq4APMhQs3d"
   },
   "source": [
    "## Question 17\n",
    "Develop a Python function called 'count_vowels' that takes a string as input and returns the count of vowels (both lowercase and uppercase) present in the string, ignoring spaces and non-alphabetic characters."
   ]
  },
  {
   "cell_type": "code",
   "execution_count": 17,
   "metadata": {
    "colab": {
     "base_uri": "https://localhost:8080/"
    },
    "id": "ZnoxhSglQs3d",
    "outputId": "2279a8ef-67a0-4376-fe48-89e744451ac8"
   },
   "outputs": [
    {
     "name": "stdout",
     "output_type": "stream",
     "text": [
      "Enter a string: 44\n",
      "Number of vowels in the input string: 0\n"
     ]
    }
   ],
   "source": [
    "# write your answer here\n",
    "def count_vowels(input_string):\n",
    "    vowels = 'aeiou'\n",
    "    count = 0\n",
    "    for char in input_string:\n",
    "        if char in vowels:\n",
    "            count += 1\n",
    "    return count\n",
    "input_text = input(\"Enter a string: \")\n",
    "vowel_count = count_vowels(input_text)\n",
    "print(f\"Number of vowels in the input string: {vowel_count}\")\n",
    "\n"
   ]
  },
  {
   "cell_type": "markdown",
   "metadata": {
    "id": "55FWoSJPVVM6"
   },
   "source": [
    "## Question 18\n",
    "Create a custom exception named ValueTooSmallError in Python. Write a program that takes user input for an age, and if the entered age is less than 18, raise the ValueTooSmallError with an appropriate error message."
   ]
  },
  {
   "cell_type": "code",
   "execution_count": 18,
   "metadata": {
    "colab": {
     "base_uri": "https://localhost:8080/"
    },
    "id": "hwtr1wZmVX5A",
    "outputId": "12de363a-87ce-4e84-ca03-117702c89a34"
   },
   "outputs": [
    {
     "name": "stdout",
     "output_type": "stream",
     "text": [
      "Enter your age: 24\n",
      "You are eligible!\n"
     ]
    }
   ],
   "source": [
    "# write your answer here\n",
    "class ValueTooSmallError(Exception):\n",
    "\n",
    "    def __init__(self, message):\n",
    "        super().__init__(message)\n",
    "\n",
    "def check_age(age):\n",
    "\n",
    "    if age < 18:\n",
    "        raise ValueTooSmallError(\"Entered age is too small. You must be at least 18 years old.\")\n",
    "\n",
    "try:\n",
    "    user_age = int(input(\"Enter your age: \"))\n",
    "    check_age(user_age)\n",
    "    print(\"You are eligible!\")\n",
    "except ValueError:\n",
    "    print(\"Please enter a valid integer for age.\")\n",
    "except ValueTooSmallError as e:\n",
    "    print(e)\n",
    "\n"
   ]
  },
  {
   "cell_type": "markdown",
   "metadata": {
    "id": "Q9ecagcaVazW"
   },
   "source": [
    "## Question 19\n",
    "Develop a script that reverses a given string without using built-in reverse functions."
   ]
  },
  {
   "cell_type": "code",
   "execution_count": 19,
   "metadata": {
    "colab": {
     "base_uri": "https://localhost:8080/"
    },
    "id": "gycgckoAVZjR",
    "outputId": "55892ed4-fac9-4d68-ac61-662a76c8d8b0"
   },
   "outputs": [
    {
     "name": "stdout",
     "output_type": "stream",
     "text": [
      "Enter a string to reverse: hi\n",
      "Reversed string: ih\n"
     ]
    }
   ],
   "source": [
    "# write your answer here\n",
    "def reverse_string_loop(input_string):\n",
    "    reversed_string = ''\n",
    "    for char in input_string:\n",
    "        reversed_string = char + reversed_string\n",
    "    return reversed_string\n",
    "input_text = input(\"Enter a string to reverse: \")\n",
    "reversed_text = reverse_string_loop(input_text)\n",
    "print(f\"Reversed string: {reversed_text}\")\n"
   ]
  },
  {
   "cell_type": "markdown",
   "metadata": {
    "id": "ZFG6RibifMLu"
   },
   "source": [
    "## Question 20\n",
    "Implement a Python script to generate a random password of a specified length."
   ]
  },
  {
   "cell_type": "code",
   "execution_count": 20,
   "metadata": {
    "colab": {
     "base_uri": "https://localhost:8080/"
    },
    "id": "BFVrkEi9fNiD",
    "outputId": "9f72a2e1-9344-4f9a-cee8-890cd074669a"
   },
   "outputs": [
    {
     "name": "stdout",
     "output_type": "stream",
     "text": [
      "Enter the desired length of the password: 456\n",
      "Generated password: I@l=vu,zN\"EjFd?eM^AXeZ)utWT8G%y;(YYhV8.{3?qC.CkrxT=8t_FD.FOP,)$,YWhbvU\\Xal/XC]jM/mA9w;Os%R;birk=:^m%&Cwti=t=$I3r]1_#zIP7i6-=].IM}$fyHXC!r}fKqMnY*o/_VeY:Ld-LaTm}icv*Hv6Wlv]j}I[V[y6KrZ;D1TS7;^C>f\\:_oEL8RdL2Dck8<t1]R1=ASQT$QK\"|mw&2>q!ttSv[(VM-J:+))5E<j30JI}b:aC]v1P%3mLzJ%a_3NBtgvso~l&F)quTUYl;ITgvYE6IU(TQ*uTg}\\h,L`)8{NX\\[(Aq[]u*>$#+}YhiHTyVJ9c:3_N$U>1ZZHF9^V=8V|Q[})O:EG{lmZ!Ybj#5FW%'dmEY)tI,.G2<$!QofZImDSvIJLRR+p\\9j|,.Tfi)e-m(P._yAj'-w916SlZZs0R@uv!;v@$iJ\n"
     ]
    }
   ],
   "source": [
    "# write your answer here\n",
    "import random\n",
    "import string\n",
    "\n",
    "def generate_password(length):\n",
    "\n",
    "    characters = string.ascii_letters + string.digits + string.punctuation\n",
    "\n",
    "    if length < 4:\n",
    "        raise ValueError(\"Length must be at least 4 to include all character types.\")\n",
    "    password = [\n",
    "        random.choice(string.ascii_lowercase),\n",
    "        random.choice(string.ascii_uppercase),\n",
    "        random.choice(string.digits),\n",
    "        random.choice(string.punctuation)\n",
    "    ]\n",
    "\n",
    "    password += [random.choice(characters) for _ in range(length - 4)]\n",
    "\n",
    "\n",
    "    random.shuffle(password)\n",
    "\n",
    "    return ''.join(password)\n",
    "\n",
    "try:\n",
    "    password_length = int(input(\"Enter the desired length of the password: \"))\n",
    "    password = generate_password(password_length)\n",
    "    print(f\"Generated password: {password}\")\n",
    "except ValueError as e:\n",
    "    print(e)\n"
   ]
  },
  {
   "cell_type": "markdown",
   "metadata": {
    "id": "6SmvS7nSfbj8"
   },
   "source": [
    "# Try these questions"
   ]
  },
  {
   "cell_type": "markdown",
   "metadata": {
    "id": "cboAr5pEWUf5"
   },
   "source": [
    "(21) Define a base class called 'Vehicle' with attributes make and model. Create a derived class Car that inherits from Vehicle and has an additional attribute 'num_doors'. Demonstrate an example of creating an instance of the 'Car' class and accessing its attributes."
   ]
  },
  {
   "cell_type": "code",
   "execution_count": 21,
   "metadata": {
    "colab": {
     "base_uri": "https://localhost:8080/"
    },
    "id": "phs9gciMWWAW",
    "outputId": "01550798-c668-4f68-8fcf-c098deafaac5"
   },
   "outputs": [
    {
     "name": "stdout",
     "output_type": "stream",
     "text": [
      "Make: Toyota\n",
      "Model: Corolla\n",
      "Number of Doors: 4\n",
      "Toyota Corolla with 4 doors\n"
     ]
    }
   ],
   "source": [
    "# write your answer here\n",
    "class Vehicle:\n",
    "    def __init__(self, make, model):\n",
    "        self.make = make\n",
    "        self.model = model\n",
    "\n",
    "class Car(Vehicle):\n",
    "    def __init__(self, make, model, num_doors):\n",
    "        super().__init__(make, model)\n",
    "        self.num_doors = num_doors\n",
    "\n",
    "    def __str__(self):\n",
    "        return f\"{self.make} {self.model} with {self.num_doors} doors\"\n",
    "\n",
    "\n",
    "my_car = Car(\"Toyota\", \"Corolla\", 4)\n",
    "\n",
    "print(f\"Make: {my_car.make}\")\n",
    "print(f\"Model: {my_car.model}\")\n",
    "print(f\"Number of Doors: {my_car.num_doors}\")\n",
    "\n",
    "\n",
    "print(my_car)\n",
    "\n"
   ]
  },
  {
   "cell_type": "markdown",
   "metadata": {
    "id": "J8HHefNtePwd"
   },
   "source": [
    "(22) Create a class called 'Shape' with a method calculate_area(). Implement two derived classes 'Circle' and 'Rectangle' that inherit from Shape and override the calculate_area() method. Demonstrate polymorphism by creating instances of both derived classes and calling the calculate_area() method."
   ]
  },
  {
   "cell_type": "code",
   "execution_count": 22,
   "metadata": {
    "colab": {
     "base_uri": "https://localhost:8080/"
    },
    "id": "btnMmUZDeRhS",
    "outputId": "a569499a-c383-4344-9d36-6ef3c6bde0a1"
   },
   "outputs": [
    {
     "name": "stdout",
     "output_type": "stream",
     "text": [
      "The area of the Circle is: 78.53981633974483\n",
      "The area of the Rectangle is: 200\n"
     ]
    }
   ],
   "source": [
    "# write your answer here\n",
    "import math\n",
    "\n",
    "class Shape:\n",
    "    def calculate_area(self):\n",
    "        raise NotImplementedError(\"This method should be overridden by subclasses\")\n",
    "\n",
    "class Circle(Shape):\n",
    "    def __init__(self, radius):\n",
    "        self.radius = radius\n",
    "\n",
    "    def calculate_area(self):\n",
    "        return math.pi * self.radius ** 2\n",
    "\n",
    "class Rectangle(Shape):\n",
    "    def __init__(self, width, height):\n",
    "        self.width = width\n",
    "        self.height = height\n",
    "\n",
    "    def calculate_area(self):\n",
    "        return self.width * self.height\n",
    "\n",
    "circle = Circle(5)  # radius = 5\n",
    "rectangle = Rectangle(10, 20)  # width = 10, height = 20\n",
    "\n",
    "shapes = [circle, rectangle]\n",
    "\n",
    "\n",
    "for shape in shapes:\n",
    "    print(f\"The area of the {shape.__class__.__name__} is: {shape.calculate_area()}\")\n"
   ]
  },
  {
   "cell_type": "markdown",
   "metadata": {
    "id": "z0oqEAlTeMUS"
   },
   "source": [
    "(23) Write a Python program that prompts the user to enter two numbers and perform a division operation. Handle exceptions for both zero division and invalid input (non-numeric input). Display appropriate error messages for each type of exception and ensure the program does not crash due to these errors."
   ]
  },
  {
   "cell_type": "code",
   "execution_count": 23,
   "metadata": {
    "colab": {
     "base_uri": "https://localhost:8080/"
    },
    "id": "yjdc1zM1eMAs",
    "outputId": "4d47e0d2-c04a-4cb2-9455-0365cadfd125"
   },
   "outputs": [
    {
     "name": "stdout",
     "output_type": "stream",
     "text": [
      "Enter the numerator: 5\n",
      "Enter the denominator: 6\n",
      "The result of the division is 0.8333333333333334\n"
     ]
    }
   ],
   "source": [
    "# write your answer here\n",
    "def perform_division():\n",
    "    while True:\n",
    "        try:\n",
    "            numerator = float(input(\"Enter the numerator: \"))\n",
    "            denominator = float(input(\"Enter the denominator: \"))\n",
    "            result = numerator / denominator\n",
    "            print(f\"The result of the division is {result}\")\n",
    "            break\n",
    "        except ZeroDivisionError:\n",
    "            print(\"Error: Cannot divide by zero. Please try again.\")\n",
    "        except ValueError:\n",
    "            print(\"Error: Please enter valid numbers. Non-numeric input is not allowed.\")\n",
    "\n",
    "if __name__ == \"__main__\":\n",
    "    perform_division()\n"
   ]
  },
  {
   "cell_type": "markdown",
   "metadata": {
    "id": "sZOhks1dXWEe"
   },
   "source": [
    "# Mandatory Question"
   ]
  },
  {
   "cell_type": "markdown",
   "metadata": {
    "id": "eqmHVEwaWhbV"
   },
   "source": [
    "**Important:**\n",
    "Reflecting on the first three lectures and the exercises you've completed, please provide feedback on your learning experience. Share your thoughts on whether the material covered was clear, the exercises were helpful, and if you feel more confident in applying Python programming concepts. Additionally, mention any specific areas where you would like more clarification or topics you would like to explore further in future lectures. Your feedback is valuable in shaping the course for an effective learning journey."
   ]
  },
  {
   "cell_type": "code",
   "execution_count": 24,
   "metadata": {
    "colab": {
     "base_uri": "https://localhost:8080/",
     "height": 53
    },
    "id": "akAVJn9YBTQT",
    "outputId": "dbb46296-2565-43f4-eab4-bf4712a3c72c"
   },
   "outputs": [
    {
     "data": {
      "application/vnd.google.colaboratory.intrinsic+json": {
       "type": "string"
      },
      "text/plain": [
       "'\\nI like the way your teaching the course, the explanation of examples and concepts are clear and expecting need to explain few more examples while discussing the concepts. Coming to in class task please explain those questions and give some ideas.\\n'"
      ]
     },
     "execution_count": 24,
     "metadata": {},
     "output_type": "execute_result"
    }
   ],
   "source": [
    "'''\n",
    "I like the way your teaching the course, the explanation of examples and concepts are clear and expecting need to explain few more examples while discussing the concepts. Coming to in class task please explain those questions and give some ideas.\n",
    "'''"
   ]
  }
 ],
 "metadata": {
  "colab": {
   "provenance": []
  },
  "kernelspec": {
   "display_name": "Python 3 (ipykernel)",
   "language": "python",
   "name": "python3"
  },
  "language_info": {
   "codemirror_mode": {
    "name": "ipython",
    "version": 3
   },
   "file_extension": ".py",
   "mimetype": "text/x-python",
   "name": "python",
   "nbconvert_exporter": "python",
   "pygments_lexer": "ipython3",
   "version": "3.11.5"
  }
 },
 "nbformat": 4,
 "nbformat_minor": 1
}
