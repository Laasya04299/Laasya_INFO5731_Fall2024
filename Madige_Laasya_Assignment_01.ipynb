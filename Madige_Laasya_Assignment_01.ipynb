{
  "cells": [
    {
      "cell_type": "markdown",
      "metadata": {
        "id": "view-in-github",
        "colab_type": "text"
      },
      "source": [
        "<a href=\"https://colab.research.google.com/github/Laasya04299/Laasya_INFO5731_Fall2024/blob/main/Madige_Laasya_Assignment_01.ipynb\" target=\"_parent\"><img src=\"https://colab.research.google.com/assets/colab-badge.svg\" alt=\"Open In Colab\"/></a>"
      ]
    },
    {
      "cell_type": "markdown",
      "metadata": {
        "id": "Ryk8D1Q4Wsrp"
      },
      "source": [
        "# **INFO5731 Assignment One**"
      ]
    },
    {
      "cell_type": "markdown",
      "source": [],
      "metadata": {
        "id": "EDxhjsqBwFi6"
      }
    },
    {
      "cell_type": "markdown",
      "metadata": {
        "id": "qcP6re2g5A5r"
      },
      "source": [
        "This assignment includes range of programming tasks and data analysis exercises, aiming to enhance your Python skills and proficiency in string manipulation, numerical computations, and data science. Follow the instructions carefully and design well-structured Python programs to address each question.\n",
        "\n",
        "Late Submission will have a penalty of 10% reduction for each day after the deadline."
      ]
    },
    {
      "cell_type": "markdown",
      "metadata": {
        "id": "JkzR8cFAyGik"
      },
      "source": [
        "# Question 1 (10 points).\n",
        "\n",
        "The formula that describes the volume V of a hemisphere with radius r is the following:\n",
        "\n",
        "$ V=\\frac{2}{3}\\ast\\ \\pi\\ast\\ r^3 $\n",
        "\n",
        "Write a program to calculate the value of V when r is in the range of even numbers from 1-20. Output the result in the following format:\n",
        "\n",
        "\tr\tV\n",
        "\t2\t…\n",
        "\t4\t…\n",
        "\t6\t…\n",
        "\t.\n",
        "\t.\n",
        "\t.\n",
        "\t20\t…\n"
      ]
    },
    {
      "cell_type": "code",
      "execution_count": null,
      "metadata": {
        "id": "jDyTKYs-yGit",
        "outputId": "adb851de-aa74-4c90-f1a8-0fe6e104197c"
      },
      "outputs": [
        {
          "name": "stdout",
          "output_type": "stream",
          "text": [
            "r\tV\n",
            "2\t16.76\n",
            "4\t134.04\n",
            "6\t452.39\n",
            "8\t1072.33\n",
            "10\t2094.40\n",
            "12\t3619.11\n",
            "14\t5747.02\n",
            "16\t8578.64\n",
            "18\t12214.51\n",
            "20\t16755.16\n"
          ]
        }
      ],
      "source": [
        "# Your code here\n",
        "#Importing math package\n",
        "import math\n",
        "print(\"r\\tV\")\n",
        "#Getting volume of hemisphere for range of even numbers(1-20)\n",
        "for i in range(2,21,2):\n",
        "    V=(2/3)* math.pi*(i**3)\n",
        "    print(f\"{i}\\t{V:.2f}\")\n"
      ]
    },
    {
      "cell_type": "markdown",
      "metadata": {
        "id": "90_NR8c5XGWc"
      },
      "source": [
        "# Question 2 (20 points)\n",
        "\n",
        "(a) Write a Python program to generate a sequence of 12 random numbers falling within the range of 50 to 150.\n",
        "\n",
        "(b) Arrange the generated numbers in ascending order. Display the sorted list.\n",
        "\n",
        "(c) Extend the program to arrange the numbers in descending order as well. Present the sorted list accordingly.\n",
        "\n",
        "(d) Compute and output the average of the entire group of generated numbers.\n",
        "\n",
        "(e) Enhance the program to calculate and display the average of the first 6 numbers from both the ascending and descending sorted lists."
      ]
    },
    {
      "cell_type": "code",
      "execution_count": null,
      "metadata": {
        "id": "5QX6bJjGWXY9",
        "outputId": "063975cb-456b-4e1b-e524-05763bcb7bf0"
      },
      "outputs": [
        {
          "name": "stdout",
          "output_type": "stream",
          "text": [
            "Random numbers are :\n",
            " [139, 89, 69, 95, 52, 124, 70, 138, 90, 112, 63, 106]\n",
            "Ascending order of list :\n",
            " [52, 63, 69, 70, 89, 90, 95, 106, 112, 124, 138, 139]\n",
            "Descending order of list :\n",
            " [139, 138, 124, 112, 106, 95, 90, 89, 70, 69, 63, 52]\n",
            "The average of the random numbers list :\n",
            " 95.58333333333333\n",
            "Average of the first 6 numbers from ascending list :\n",
            " 72.16666666666667\n",
            "Average of the first 6 numbers from descending list :\n",
            " 119.0\n"
          ]
        }
      ],
      "source": [
        "# Write code for each of the sub parts with proper comments.\n",
        "\n",
        "#Importing random package\n",
        "import random\n",
        "N=[]\n",
        "#Getting random numbers\n",
        "for i in range(12):\n",
        "    N.append(random.randint(50,150))\n",
        "print(\"Random numbers are :\\n\",N)\n",
        "\n",
        "#Sorting the list in ascening order\n",
        "asc_N=sorted(N)\n",
        "print(\"Ascending order of list :\\n\",asc_N)\n",
        "\n",
        "#sorting the list in descending order\n",
        "desc_N=sorted(N,reverse=True)\n",
        "print(\"Descending order of list :\\n\",desc_N)\n",
        "\n",
        "#Average of random numbers\n",
        "avg=sum(N)/len(N)\n",
        "print(\"The average of the random numbers list :\\n\", avg)\n",
        "\n",
        "# Average of the first 6 numbers from both the ascending and descending sorted lists.\n",
        "avg_6_asc= print(\"Average of the first 6 numbers from ascending list :\\n\",sum(asc_N[:6])/6)\n",
        "avg_6_desc= print(\"Average of the first 6 numbers from descending list :\\n\", sum(desc_N[:6])/6)\n",
        "\n"
      ]
    },
    {
      "cell_type": "markdown",
      "metadata": {
        "id": "1F_PZdH9Sh49"
      },
      "source": [
        "# Question 3 (20 points).\n",
        "\n",
        "Create a Python program that encompasses various string manipulation task:\n",
        "\n",
        "(a) Prompt the user to input two sentences.\n",
        "\n",
        "(b) Transform each sentence into a list, where each element corresponds to a word in the sentence. For example, if the sentences are \"Hello, how are you doing today?\" and \"This is an example sentence for the program!\"\n",
        "\n",
        "The program should output:\n",
        "['Hello', ',', 'how', 'are', 'you', 'doing', 'today', '?', 'This', 'is', 'an', 'example', 'sentence', 'for', 'the', 'program', '!']\n",
        "\n",
        "(c) Compare the two sentences. Print out a list of words that occur in both sentences.\n",
        "\n",
        "(d) Remove any punctuation from the sentence and print the sanitized sentences. It should remove at least the following characters, but it can remove more: period(“.”), comma (“,”), semicolon (“;”), and colon (“:”).\n",
        "\n",
        "(e) Count the number of vowels in each of the sentences. Print out each vowel and the occurrences  in the each of the two sentences separately, such as:\n",
        "\n",
        "Sentence1: a:2, e:2, i:0, etc.\n",
        "Sentence2: a:1, e:2, i:2, etc.\n",
        "\n",
        "Design a well-structured Python program to execute these tasks efficiently."
      ]
    },
    {
      "cell_type": "code",
      "execution_count": null,
      "metadata": {
        "id": "Y0oOSlsOS0cq",
        "outputId": "3b060293-2402-46a1-e417-562d177567fb"
      },
      "outputs": [
        {
          "name": "stdout",
          "output_type": "stream",
          "text": [
            "Words in  both the list are :\n",
            " ['my', 'name', 'is', 'king', 'my', 'hobbie', 'is', 'killing']\n",
            "The common words in both the sentances are :\n",
            " ['my', 'is']\n",
            "First sentence without punctuations :\n",
            " my name is king\n",
            "Second sentence without punctuations :\n",
            " my hobbie is killing\n",
            "Vowels in first sentence are :\n",
            " {'a': 1, 'e': 1, 'i': 2, 'o': 0, 'u': 0}\n",
            "Vowels in second sentence are :\n",
            " {'a': 0, 'e': 1, 'i': 4, 'o': 1, 'u': 0}\n"
          ]
        }
      ],
      "source": [
        "# Your code here\n",
        "import string\n",
        "\n",
        "#Importing the sentences\n",
        "s1=\"my name is king\"\n",
        "s2=\"my hobbie is killing\"\n",
        "# s1=input(\"Enter the first sentence\")\n",
        "# s2=input(\"Enter the second sentence\")\n",
        "\n",
        "#splitting both the sentence to words to form a list\n",
        "\n",
        "w1=s1.split()\n",
        "w2=s2.split()\n",
        "Combined_words= w1+w2\n",
        "print(\"Words in  both the list are :\\n\",Combined_words)\n",
        "\n",
        "#Printing same words in both sentences\n",
        "\n",
        "same_words=set(w1) & set(w2)\n",
        "print(\"The common words in both the sentances are :\\n\",list(same_words))\n",
        "\n",
        "#Printing the sentence without punctuations\n",
        "s1_NoPunc = s1.translate(str.maketrans('', '', string.punctuation))\n",
        "s2_NoPunc = s2.translate(str.maketrans('', '', string.punctuation))\n",
        "print(\"First sentence without punctuations :\\n\", s1_NoPunc)\n",
        "print(\"Second sentence without punctuations :\\n\", s2_NoPunc)\n",
        "\n",
        "#Counting vowels in sentences\n",
        "\n",
        "vowels = \"aeiou\"\n",
        "\n",
        "vowel_count1 = {}\n",
        "vowel_count2 = {}\n",
        "\n",
        "for i in vowels:\n",
        "    vowel_count1[i] = s1.count(i)\n",
        "    vowel_count2[i] = s2.count(i)\n",
        "\n",
        "print(\"Vowels in first sentence are :\\n\", vowel_count1)\n",
        "print(\"Vowels in second sentence are :\\n\", vowel_count2)"
      ]
    },
    {
      "cell_type": "markdown",
      "metadata": {
        "id": "OP4-5qxAtInv"
      },
      "source": [
        "# Question 4 (20 Points)"
      ]
    },
    {
      "cell_type": "markdown",
      "metadata": {
        "id": "uzN4_hDptK9U"
      },
      "source": [
        "Design and implement a simple command-line calculator program. The program should handle both integers and floating-point numbers.\n",
        "\n",
        "(a) Write program that takes a mathematical expression as input and evaluates it. The program should support addition, subtraction, multiplication, and division.\n",
        "\n",
        "(b) Extend the calculator to handle parentheses in mathematical expressions. Implement the necessary logic to evaluate expressions with nested parentheses.\n",
        "\n",
        "(c) Enhance your calculator to include additional mathematical operations such as exponentiation, square root, and modulus.\n",
        "\n",
        "(d) Implement error handling in the calculator program. Handle cases such as division by zero and invalid input expressions. Provide meaningful error messages.\n",
        "\n",
        "(e) Implement a command to exit the calculator."
      ]
    },
    {
      "cell_type": "code",
      "execution_count": null,
      "metadata": {
        "id": "8nQnVxjJuYtu",
        "outputId": "394c19bb-7d01-4db9-dc5b-dc5524e67e0a"
      },
      "outputs": [
        {
          "name": "stdout",
          "output_type": "stream",
          "text": [
            "Enter a Mathematical expression or type exit to quit the calculator: exit\n",
            "****Calculator turned off, Bye-Bye!****\n"
          ]
        }
      ],
      "source": [
        "# Your code here\n",
        "\n",
        "while True:\n",
        "    # Prompting user for input\n",
        "    exp = input(\"Enter a Mathematical expression or type exit to quit the calculator: \")\n",
        "\n",
        "    if exp.lower()== 'exit':\n",
        "        print(\"****Calculator turned off, Bye-Bye!****\")\n",
        "        break\n",
        "\n",
        "    try:\n",
        "        # Printing the results of given expression using Eval function\n",
        "        Result = eval(exp)\n",
        "        print(\"Answer :\\n\", Result)\n",
        "    except ZeroDivisionError:\n",
        "        print(\"****ERROR****\\n Division with Zero is not possible\")\n",
        "    except Exception:\n",
        "        print(\"****ERROR****\\n Invalid input.\")\n"
      ]
    },
    {
      "cell_type": "markdown",
      "metadata": {
        "id": "z3tBE7E-Xn5X"
      },
      "source": [
        "# Question 5 (30 points).\n",
        "\n",
        "In the field of Data Science, data is often formatted as a comma-delimited (CSV) file, where each line in a file corresponds to a field's value. Refer to Chapter 9 (p. 106) for more information on comma-delimited files.\n",
        "\n",
        "To answer this question, you will need to download the file [Assignment1_denton_housing.csv](https://raw.githubusercontent.com/unt-iialab/info5731-spring2022/main/assignments/Assignment1_denton_housing.csv) included with this assignment. The file contains statistics about housing in the city of Denton from 2008 to 2014. Write a program to implement the following questions.\n",
        "\n",
        "(a) (5 pts) Calculate the difference in the number of Occupied Housing Units from year to year and print it. The difference must be calculated for the consecutive years such as 2008-2009, 2009-2010 etc. Finally, print the values in the ascending order.\n",
        "\n",
        "(b) (5 pts) For all the years, calculate the percentage of housing units which are vacant an occupied. Print the results in the following format:\n",
        "\n",
        "Year Vacant Housing Units Occupied Housing Units\n",
        "\n",
        "    2008  30%   70%                          \n",
        "\t2009 ----- -----\n",
        "\t2010 ----- -----\n",
        "    2011 ----- -----\n",
        "\t2012 ----- -----\n",
        "    2013 ----- -----\n",
        "\t2014 ----- -----\n",
        "  \n",
        "  \n",
        "\n",
        "(c) (10 pts) Calculate and print the valued and years in which the highest number of housing units were vacant and occupied. Print the results in the following format:  \n",
        "\n",
        "                              Year\tValue\n",
        "\tVacant Housing Units\t  -----   -----\n",
        "\tOccupied Housing Units\t-----   -----\n",
        "\n",
        "(d) (10 pts) Calculate the harmonic mean of the total housing units and print it out. You can find the information about harmonic mean here: https://ncalculators.com/statistics/harmonic-mean-calculator.htm"
      ]
    },
    {
      "cell_type": "code",
      "execution_count": null,
      "metadata": {
        "id": "lqGYuHBhcsRH",
        "outputId": "1e91536a-3df2-4a59-abec-8a1f8dcca297"
      },
      "outputs": [
        {
          "name": "stdout",
          "output_type": "stream",
          "text": [
            "The difference of housing units in ascending order :\n",
            "     year    Diff\n",
            "17  2009 -5091.0\n",
            "5   2013 -2622.0\n",
            "8   2012 -1565.0\n",
            "11  2011 -1404.0\n",
            "14  2010   303.0\n",
            "20  2008   795.0\n",
            "\n",
            "\n",
            "The Percentage of vacant and occupied housing units are:\n",
            "\n",
            "2014 5.73% 94.27%\n",
            "2013 8.80% 91.20%\n",
            "2012 6.68% 93.32%\n",
            "2011 9.38% 90.62%\n",
            "2010 8.14% 91.86%\n",
            "2009 9.07% 90.93%\n",
            "2008 10.88% 89.12%\n",
            "\n",
            "\n",
            "The Maximum Vacant and Occupied Housing Units in the year is :\n",
            "                          Year  Value\n",
            "Vacant Housing Units -    2008, 4483\n",
            "Occupied Housing Units -  2014, 4483\n",
            "\n",
            "Harmonic Mean of Total Housing Units: 130257.98\n"
          ]
        }
      ],
      "source": [
        " #Your code here\n",
        "#Using pandas package to read the CSV file\n",
        "#Using scikit learn package for Harmonic mean\n",
        "import pandas as pd\n",
        "from scipy.stats import hmean\n",
        "\n",
        "df=pd.read_csv(\"Assignment1_denton_housing.csv \")\n",
        "#Displaying the view of the file\n",
        "df.head()\n",
        "\n",
        "#(a) Calculate the difference in the number of Occupied Housing Units\n",
        "\n",
        "#Getting only the data of Occupied Housing units.\n",
        "occupied_Housing_units = df[df['title_field'] == 'Occupied Housing Units'].copy()\n",
        "\n",
        "#Geting year-to-year difference using .loc\n",
        "occupied_Housing_units.loc[:, 'Diff'] = occupied_Housing_units['value'].diff()\n",
        "\n",
        "#Dropping the NaN value of first row as there's no previous year to it\n",
        "occupied_Housing_units = occupied_Housing_units.dropna()\n",
        "\n",
        "#Differences in ascending order\n",
        "occupied_Housing_units_sorted = occupied_Housing_units[['year', 'Diff']].sort_values(by='Diff')\n",
        "\n",
        "print(\"The difference of housing units in ascending order :\\n\",occupied_Housing_units_sorted)\n",
        "\n",
        "\n",
        "# (b) calculate the percentage of housing units which are vacant an occupied\n",
        "\n",
        "# Filter the data for \"Vacant Housing Units\" and \"Occupied Housing Units\"\n",
        "vacant_Housing_units = df[df['title_field'] == 'Vacant Housing Units']\n",
        "occupied_Housing_units = df[df['title_field'] == 'Occupied Housing Units']\n",
        "\n",
        "#total number of housing units (Vacant + Occupied)\n",
        "total_units = vacant_Housing_units.set_index('year')['value'] + occupied_Housing_units.set_index('year')['value']\n",
        "\n",
        "#percentage of Vacant and Occupied units\n",
        "vacant_Housing_percentage = (vacant_Housing_units.set_index('year')['value'] / total_units) * 100\n",
        "occupied_Housing_percentage = (occupied_Housing_units.set_index('year')['value'] / total_units) * 100\n",
        "\n",
        "print(\"\\n\\nThe Percentage of vacant and occupied housing units are:\\n\")\n",
        "for year in vacant_Housing_units['year']:\n",
        "    print(f\"{year} {vacant_Housing_percentage[year]:.2f}% {occupied_Housing_percentage[year]:.2f}%\")\n",
        "\n",
        "\n",
        "\n",
        "# (C) Calculate and print the valued and years in which the highest number of housing units were vacant and occupied\n",
        "\n",
        "max_Housing_vacant = vacant_Housing_units.loc[vacant_Housing_units['value'].idxmax()]\n",
        "max_Housing_occupied = occupied_Housing_units.loc[occupied_Housing_units['value'].idxmax()]\n",
        "print(\"\\n\\nThe Maximum Vacant and Occupied Housing Units in the year is :\")\n",
        "print(\"                          Year  Value\")\n",
        "print(f\"Vacant Housing Units -    {max_Housing_vacant['year']}, {max_Housing_vacant['value']}\")\n",
        "print(f\"Occupied Housing Units -  {max_Housing_occupied['year']}, {max_Housing_vacant['value']}\")\n",
        "\n",
        "# (d) Calculate the harmonic mean of the total housing units and print it out.\n",
        "\n",
        "Total_Housing_units= df.groupby('year')['value'].sum()\n",
        "Harmonic_mean= hmean(Total_Housing_units)\n",
        "print(f\"\\n The Harmonic Mean value of Total Housing Units is \\n: {Harmonic_mean:.2f}\")\n",
        "\n",
        "\n",
        "\n"
      ]
    },
    {
      "cell_type": "code",
      "execution_count": null,
      "metadata": {
        "id": "q8BFCvWp32cf"
      },
      "outputs": [],
      "source": [
        "# Mandatory Question\n",
        "\n",
        "Provide your thoughts on the assignment. What did you find challenging, and what aspects did you enjoy? Your opinion on the provided time to complete the assignment. Share any suggestions for improvement. Your feedback will be valuable for enhancing the learning experience."
      ]
    },
    {
      "cell_type": "markdown",
      "metadata": {
        "id": "_e557s2w4BpK"
      },
      "source": [
        "# Write your response below\n",
        "The assigment was very comfortable for the first 2 questions and it went into a bit challenging mode for the rest of the questions. I took a lot of time for the last question as it invloved the CSV file where I need to read the data and interpret accordingly. There is no complaint on time as it was sufficient for the assignment. I have nothing to suggest as I was confortable and happy with this assignment. Overall, It was a good assigment to learn and brush my coding skills. I liked the transition in difficluty level and It was a great learning experience."
      ]
    },
    {
      "cell_type": "code",
      "execution_count": null,
      "metadata": {
        "id": "piS_Yr23wApR"
      },
      "outputs": [],
      "source": []
    }
  ],
  "metadata": {
    "colab": {
      "provenance": [],
      "include_colab_link": true
    },
    "kernelspec": {
      "display_name": "Python 3 (ipykernel)",
      "language": "python",
      "name": "python3"
    },
    "language_info": {
      "codemirror_mode": {
        "name": "ipython",
        "version": 3
      },
      "file_extension": ".py",
      "mimetype": "text/x-python",
      "name": "python",
      "nbconvert_exporter": "python",
      "pygments_lexer": "ipython3",
      "version": "3.11.5"
    }
  },
  "nbformat": 4,
  "nbformat_minor": 0
}