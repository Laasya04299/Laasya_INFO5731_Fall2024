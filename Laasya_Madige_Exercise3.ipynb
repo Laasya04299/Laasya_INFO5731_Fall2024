{
  "cells": [
    {
      "cell_type": "markdown",
      "metadata": {
        "id": "view-in-github",
        "colab_type": "text"
      },
      "source": [
        "<a href=\"https://colab.research.google.com/github/Laasya04299/Laasya_INFO5731_Fall2024/blob/main/Laasya_Madige_Exercise3.ipynb\" target=\"_parent\"><img src=\"https://colab.research.google.com/assets/colab-badge.svg\" alt=\"Open In Colab\"/></a>"
      ]
    },
    {
      "cell_type": "markdown",
      "metadata": {
        "id": "VdRwkJBn70nX"
      },
      "source": [
        "# **INFO5731 In-class Exercise 3**\n",
        "\n",
        "The purpose of this exercise is to explore various aspects of text analysis, including feature extraction, feature selection, and text similarity ranking.\n",
        "\n",
        "**Expectations**:\n",
        "*   Use the provided .*ipynb* document to write your code & respond to the questions. Avoid generating a new file.\n",
        "*   Write complete answers and run all the cells before submission.\n",
        "*   Make sure the submission is \"clean\"; *i.e.*, no unnecessary code cells.\n",
        "*   Once finished, allow shared rights from top right corner (*see Canvas for details*).\n",
        "\n",
        "**Total points**: 40\n",
        "\n",
        "**Deadline**: This in-class exercise is due at the end of Friday, at 11:59 PM.\n",
        "\n",
        "**Late submissions will have a penalty of 10% of the marks for each day of late submission. , and no requests will be answered. Manage your time accordingly.**\n",
        "\n",
        "**Please check that the link you submitted can be opened and points to the correct assignment.**"
      ]
    },
    {
      "cell_type": "markdown",
      "metadata": {
        "id": "ARqm7u6B70ne"
      },
      "source": [
        "## Question 1 (10 Points)\n",
        "Describe an interesting **text classification or text mining task** and explain what kind of features might be useful for you to build the machine learning model. List your features and explain why these features might be helpful. You need to list at least five different types of features. **Your dataset must be text.**"
      ]
    },
    {
      "cell_type": "code",
      "execution_count": null,
      "metadata": {
        "id": "VAZj4PHB70nf",
        "colab": {
          "base_uri": "https://localhost:8080/",
          "height": 87
        },
        "outputId": "4d210a1f-db91-4b3f-9e46-24da89e6ef10"
      },
      "outputs": [
        {
          "output_type": "execute_result",
          "data": {
            "text/plain": [
              "'\\n\\nIn this task, I will be working on movie review sentiment analysis. The motive will be to\\nclassify movie reviews into positive or negative categories. This will be useful to tell a new viewer on what\\nto expect from the movie.\\nMain features will include:\\n\\nWord frequency: These are the common words in positive and negative reviews.\\nPOS Tags: Different sentiments might possibly correlate with certain POS tags.\\nSentiment Polarity: Detects overall sentiment of the review.\\nAdjective Count: Positive reviews often have more descriptive words.\\nReview Length: Long reviews may indicate more thorough opinions.\\n\\n\\n\\n\\n\\n\\n'"
            ],
            "application/vnd.google.colaboratory.intrinsic+json": {
              "type": "string"
            }
          },
          "metadata": {},
          "execution_count": 1
        }
      ],
      "source": [
        "# Your answer here (no code for this question, write down your answer as detail as possible for the above questions):\n",
        "\n",
        "'''\n",
        "\n",
        "In this task, I will be working on movie review sentiment analysis. The motive will be to\n",
        "classify movie reviews into positive or negative categories. This will be useful to tell a new viewer on what\n",
        "to expect from the movie.\n",
        "Main features will include:\n",
        "\n",
        "Word frequency: These are the common words in positive and negative reviews.\n",
        "POS Tags: Different sentiments might possibly correlate with certain POS tags.\n",
        "Sentiment Polarity: Detects overall sentiment of the review.\n",
        "Adjective Count: Positive reviews often have more descriptive words.\n",
        "Review Length: Long reviews may indicate more thorough opinions.\n",
        "\n",
        "\n",
        "\n",
        "\n",
        "\n",
        "\n",
        "'''"
      ]
    },
    {
      "cell_type": "markdown",
      "metadata": {
        "id": "dEUjBE6C70nf"
      },
      "source": [
        "## Question 2 (10 Points)\n",
        "Write python code to extract these features you discussed above. You can collect a few sample text data for the feature extraction."
      ]
    },
    {
      "cell_type": "code",
      "execution_count": null,
      "metadata": {
        "id": "EoQX5s4O70nf",
        "colab": {
          "base_uri": "https://localhost:8080/"
        },
        "outputId": "c805ca0e-e0d7-4190-facb-4dd7c4f014b6"
      },
      "outputs": [
        {
          "output_type": "stream",
          "name": "stdout",
          "text": [
            "Review: A student like me should not watch bad movies like this\n",
            "Extracted Features: {'POS Tags': ['DET', 'NOUN', 'ADP', 'PRON', 'AUX', 'PART', 'VERB', 'ADJ', 'NOUN', 'ADP', 'PRON'], 'Named Entities': [], 'Word Count': 11, 'Sentence Length': 1, 'Lemmas': ['student', 'like', 'watch', 'bad', 'movie', 'like']}\n",
            "\n",
            "Review: The movie was absolutely fantastic!\n",
            "Extracted Features: {'POS Tags': ['DET', 'NOUN', 'AUX', 'ADV', 'ADJ', 'PUNCT'], 'Named Entities': [], 'Word Count': 6, 'Sentence Length': 1, 'Lemmas': ['movie', 'absolutely', 'fantastic', '!']}\n",
            "\n",
            "Review: I found the film boring and slow.\n",
            "Extracted Features: {'POS Tags': ['PRON', 'VERB', 'DET', 'NOUN', 'ADJ', 'CCONJ', 'ADJ', 'PUNCT'], 'Named Entities': [], 'Word Count': 8, 'Sentence Length': 1, 'Lemmas': ['find', 'film', 'boring', 'slow', '.']}\n",
            "\n",
            "Review: Average movie\n",
            "Extracted Features: {'POS Tags': ['ADJ', 'NOUN'], 'Named Entities': [], 'Word Count': 2, 'Sentence Length': 1, 'Lemmas': ['average', 'movie']}\n",
            "\n",
            "Review: A delightful and heartwarming experience.\n",
            "Extracted Features: {'POS Tags': ['DET', 'ADJ', 'CCONJ', 'NOUN', 'NOUN', 'PUNCT'], 'Named Entities': [], 'Word Count': 6, 'Sentence Length': 1, 'Lemmas': ['delightful', 'heartwarming', 'experience', '.']}\n",
            "\n"
          ]
        }
      ],
      "source": [
        "# You code here (Please add comments in the code):\n",
        "\n",
        "# We will to install spaCy and the necessary model.\n",
        "#!pip install spacy #I have commented on it since I already have it installed\n",
        "#!python -m spacy download en_core_web_sm #I have commented on it too since I already have it installed\n",
        "\n",
        "import spacy\n",
        "\n",
        "# Load the spaCy model\n",
        "extractor = spacy.load(\"en_core_web_sm\")\n",
        "\n",
        "# I have made up these movie reviews\n",
        "reviews = [\"A student like me should not watch bad movies like this\",\n",
        "    \"The movie was absolutely fantastic!\",\n",
        "    \"I found the film boring and slow.\",\n",
        "    \"Average movie\",\n",
        "    \"A delightful and heartwarming experience.\"]\n",
        "\n",
        "# This function is for extracting features from the text above\n",
        "def extract_features(text):\n",
        "    doc = extractor(text)\n",
        "\n",
        "    # Extract features: POS tags, Named Entities, Word Count, Sentence Length, Lemmas\n",
        "    pos_tags = [token.pos_ for token in doc]  # POS tags\n",
        "    named_entities = [(ent.text, ent.label_) for ent in doc.ents]  # Named entities\n",
        "    word_count = len(doc)  # Word count\n",
        "    sentence_length = len(list(doc.sents))  # Number of sentences\n",
        "    lemmas = [token.lemma_ for token in doc if not token.is_stop]  # Lemmas of non-stop words\n",
        "\n",
        "    # Returning extracted features as a dictionary\n",
        "    return {\n",
        "        \"POS Tags\": pos_tags,\n",
        "        \"Named Entities\": named_entities,\n",
        "        \"Word Count\": word_count,\n",
        "        \"Sentence Length\": sentence_length,\n",
        "        \"Lemmas\": lemmas\n",
        "    }\n",
        "\n",
        "# Extract features from each review\n",
        "for review in reviews:\n",
        "    features = extract_features(review)\n",
        "    print(f\"Review: {review}\")\n",
        "    print(f\"Extracted Features: {features}\\n\")\n",
        "\n"
      ]
    },
    {
      "cell_type": "markdown",
      "metadata": {
        "id": "7oSK4soH70nf"
      },
      "source": [
        "## Question 3 (10 points):\n",
        "Use any of the feature selection methods mentioned in this paper \"Deng, X., Li, Y., Weng, J., & Zhang, J. (2019). Feature selection for text classification: A review. Multimedia Tools & Applications, 78(3).\"\n",
        "\n",
        "Select the most important features you extracted above, rank the features based on their importance in the descending order."
      ]
    },
    {
      "cell_type": "code",
      "execution_count": null,
      "metadata": {
        "id": "2CRuXfV570ng",
        "colab": {
          "base_uri": "https://localhost:8080/"
        },
        "outputId": "38b16fce-25e0-4639-adef-6b4a54dc17c4"
      },
      "outputs": [
        {
          "output_type": "stream",
          "name": "stdout",
          "text": [
            "Ranked Features (Mutual Information):\n",
            "Feature: the---------- Score: 0.2911031660323686\n",
            "Feature: movie---------- Score: 0.2911031660323686\n",
            "Feature: and---------- Score: 0.2911031660323686\n",
            "Feature: watch---------- Score: 0.22314355131420974\n",
            "Feature: this---------- Score: 0.22314355131420974\n",
            "Feature: student---------- Score: 0.22314355131420974\n",
            "Feature: slow---------- Score: 0.22314355131420974\n",
            "Feature: should---------- Score: 0.22314355131420974\n",
            "Feature: not---------- Score: 0.22314355131420974\n",
            "Feature: movies---------- Score: 0.22314355131420974\n",
            "Feature: me---------- Score: 0.22314355131420974\n",
            "Feature: like---------- Score: 0.22314355131420974\n",
            "Feature: found---------- Score: 0.22314355131420974\n",
            "Feature: film---------- Score: 0.22314355131420974\n",
            "Feature: boring---------- Score: 0.22314355131420974\n",
            "Feature: bad---------- Score: 0.22314355131420974\n",
            "Feature: was---------- Score: 0.11849392256130009\n",
            "Feature: heartwarming---------- Score: 0.11849392256130009\n",
            "Feature: fantastic---------- Score: 0.11849392256130009\n",
            "Feature: experience---------- Score: 0.11849392256130009\n",
            "Feature: delightful---------- Score: 0.11849392256130009\n",
            "Feature: average---------- Score: 0.11849392256130009\n",
            "Feature: absolutely---------- Score: 0.11849392256130009\n"
          ]
        },
        {
          "output_type": "stream",
          "name": "stderr",
          "text": [
            "/usr/local/lib/python3.10/dist-packages/sklearn/metrics/cluster/_supervised.py:66: UserWarning: Clustering metrics expects discrete values but received continuous values for label, and binary values for target\n",
            "  warnings.warn(msg, UserWarning)\n",
            "/usr/local/lib/python3.10/dist-packages/sklearn/metrics/cluster/_supervised.py:66: UserWarning: Clustering metrics expects discrete values but received continuous values for label, and binary values for target\n",
            "  warnings.warn(msg, UserWarning)\n",
            "/usr/local/lib/python3.10/dist-packages/sklearn/metrics/cluster/_supervised.py:66: UserWarning: Clustering metrics expects discrete values but received continuous values for label, and binary values for target\n",
            "  warnings.warn(msg, UserWarning)\n",
            "/usr/local/lib/python3.10/dist-packages/sklearn/metrics/cluster/_supervised.py:66: UserWarning: Clustering metrics expects discrete values but received continuous values for label, and binary values for target\n",
            "  warnings.warn(msg, UserWarning)\n",
            "/usr/local/lib/python3.10/dist-packages/sklearn/metrics/cluster/_supervised.py:66: UserWarning: Clustering metrics expects discrete values but received continuous values for label, and binary values for target\n",
            "  warnings.warn(msg, UserWarning)\n",
            "/usr/local/lib/python3.10/dist-packages/sklearn/metrics/cluster/_supervised.py:66: UserWarning: Clustering metrics expects discrete values but received continuous values for label, and binary values for target\n",
            "  warnings.warn(msg, UserWarning)\n",
            "/usr/local/lib/python3.10/dist-packages/sklearn/metrics/cluster/_supervised.py:66: UserWarning: Clustering metrics expects discrete values but received continuous values for label, and binary values for target\n",
            "  warnings.warn(msg, UserWarning)\n",
            "/usr/local/lib/python3.10/dist-packages/sklearn/metrics/cluster/_supervised.py:66: UserWarning: Clustering metrics expects discrete values but received continuous values for label, and binary values for target\n",
            "  warnings.warn(msg, UserWarning)\n",
            "/usr/local/lib/python3.10/dist-packages/sklearn/metrics/cluster/_supervised.py:66: UserWarning: Clustering metrics expects discrete values but received continuous values for label, and binary values for target\n",
            "  warnings.warn(msg, UserWarning)\n",
            "/usr/local/lib/python3.10/dist-packages/sklearn/metrics/cluster/_supervised.py:66: UserWarning: Clustering metrics expects discrete values but received continuous values for label, and binary values for target\n",
            "  warnings.warn(msg, UserWarning)\n",
            "/usr/local/lib/python3.10/dist-packages/sklearn/metrics/cluster/_supervised.py:66: UserWarning: Clustering metrics expects discrete values but received continuous values for label, and binary values for target\n",
            "  warnings.warn(msg, UserWarning)\n",
            "/usr/local/lib/python3.10/dist-packages/sklearn/metrics/cluster/_supervised.py:66: UserWarning: Clustering metrics expects discrete values but received continuous values for label, and binary values for target\n",
            "  warnings.warn(msg, UserWarning)\n",
            "/usr/local/lib/python3.10/dist-packages/sklearn/metrics/cluster/_supervised.py:66: UserWarning: Clustering metrics expects discrete values but received continuous values for label, and binary values for target\n",
            "  warnings.warn(msg, UserWarning)\n",
            "/usr/local/lib/python3.10/dist-packages/sklearn/metrics/cluster/_supervised.py:66: UserWarning: Clustering metrics expects discrete values but received continuous values for label, and binary values for target\n",
            "  warnings.warn(msg, UserWarning)\n",
            "/usr/local/lib/python3.10/dist-packages/sklearn/metrics/cluster/_supervised.py:66: UserWarning: Clustering metrics expects discrete values but received continuous values for label, and binary values for target\n",
            "  warnings.warn(msg, UserWarning)\n",
            "/usr/local/lib/python3.10/dist-packages/sklearn/metrics/cluster/_supervised.py:66: UserWarning: Clustering metrics expects discrete values but received continuous values for label, and binary values for target\n",
            "  warnings.warn(msg, UserWarning)\n",
            "/usr/local/lib/python3.10/dist-packages/sklearn/metrics/cluster/_supervised.py:66: UserWarning: Clustering metrics expects discrete values but received continuous values for label, and binary values for target\n",
            "  warnings.warn(msg, UserWarning)\n",
            "/usr/local/lib/python3.10/dist-packages/sklearn/metrics/cluster/_supervised.py:66: UserWarning: Clustering metrics expects discrete values but received continuous values for label, and binary values for target\n",
            "  warnings.warn(msg, UserWarning)\n",
            "/usr/local/lib/python3.10/dist-packages/sklearn/metrics/cluster/_supervised.py:66: UserWarning: Clustering metrics expects discrete values but received continuous values for label, and binary values for target\n",
            "  warnings.warn(msg, UserWarning)\n",
            "/usr/local/lib/python3.10/dist-packages/sklearn/metrics/cluster/_supervised.py:66: UserWarning: Clustering metrics expects discrete values but received continuous values for label, and binary values for target\n",
            "  warnings.warn(msg, UserWarning)\n",
            "/usr/local/lib/python3.10/dist-packages/sklearn/metrics/cluster/_supervised.py:66: UserWarning: Clustering metrics expects discrete values but received continuous values for label, and binary values for target\n",
            "  warnings.warn(msg, UserWarning)\n",
            "/usr/local/lib/python3.10/dist-packages/sklearn/metrics/cluster/_supervised.py:66: UserWarning: Clustering metrics expects discrete values but received continuous values for label, and binary values for target\n",
            "  warnings.warn(msg, UserWarning)\n",
            "/usr/local/lib/python3.10/dist-packages/sklearn/metrics/cluster/_supervised.py:66: UserWarning: Clustering metrics expects discrete values but received continuous values for label, and binary values for target\n",
            "  warnings.warn(msg, UserWarning)\n"
          ]
        }
      ],
      "source": [
        "#Importing important libraries\n",
        "\n",
        "from sklearn.feature_selection import mutual_info_classif\n",
        "from sklearn.feature_extraction.text import TfidfVectorizer\n",
        "\n",
        "# I have made up these movie reviews\n",
        "reviews = [\"A student like me should not watch bad movies like this\",\n",
        "    \"The movie was absolutely fantastic!\",\n",
        "    \"I found the film boring and slow.\",\n",
        "    \" Average movie\",\n",
        "    \"A delightful and heartwarming experience.\"]\n",
        "\n",
        "# Labels for the reviews (1 = Positive, 0 = Negative). -1 should be for Neutral\n",
        "y = [0,1, 0, 1,1]\n",
        "\n",
        "# Initializing and fitting the TF-IDF vectorizer on the movie reviews\n",
        "vectorizer = TfidfVectorizer()\n",
        "X = vectorizer.fit_transform(reviews)\n",
        "\n",
        "# Performing feature selection using mutual information\n",
        "mutual_info = mutual_info_classif(X, y)\n",
        "\n",
        "# Ranking the features based on their importance\n",
        "feature_ranking = sorted(zip(mutual_info, vectorizer.get_feature_names_out()), reverse=True)\n",
        "\n",
        "# Displaying the ranked features\n",
        "print(\"Ranked Features (Mutual Information):\")\n",
        "for score, feature in feature_ranking:\n",
        "    print(f\"Feature: {feature}---------- Score: {score}\")\n",
        "\n",
        "\n",
        "\n"
      ]
    },
    {
      "cell_type": "markdown",
      "metadata": {
        "id": "7nZGAOwl70ng"
      },
      "source": [
        "## Question 4 (10 points):\n",
        "Write python code to rank the text based on text similarity. Based on the text data you used for question 2, design a query to match the most relevant docments. Please use the BERT model to represent both your query and the text data, then calculate the cosine similarity between the query and each text in your data. Rank the similary with descending order."
      ]
    },
    {
      "cell_type": "code",
      "execution_count": null,
      "metadata": {
        "id": "b4HoWK-i70ng",
        "colab": {
          "base_uri": "https://localhost:8080/"
        },
        "outputId": "faf3d9a3-0e3d-4a7a-9daf-40d041ff4c84"
      },
      "outputs": [
        {
          "output_type": "stream",
          "name": "stderr",
          "text": [
            "/usr/local/lib/python3.10/dist-packages/transformers/tokenization_utils_base.py:1601: FutureWarning: `clean_up_tokenization_spaces` was not set. It will be set to `True` by default. This behavior will be depracted in transformers v4.45, and will be then set to `False` by default. For more details check this issue: https://github.com/huggingface/transformers/issues/31884\n",
            "  warnings.warn(\n"
          ]
        },
        {
          "output_type": "stream",
          "name": "stdout",
          "text": [
            "Ranked Reviews by Similarity: \n",
            "*******\n",
            "Review: The movie was absolutely fantastic! -----> Similarity Score: 0.8141995668411255\n",
            "*******\n",
            "Review: A delightful and heartwarming experience. -----> Similarity Score: 0.7840498089790344\n",
            "*******\n",
            "Review: I found the film boring and slow. -----> Similarity Score: 0.7505823373794556\n",
            "*******\n",
            "Review: A student like me should not watch bad movies like this -----> Similarity Score: 0.5922578573226929\n",
            "*******\n",
            "Review:  Average movie -----> Similarity Score: 0.5680679678916931\n"
          ]
        }
      ],
      "source": [
        "\n",
        "\n",
        "# Installing the transformers library for BERT\n",
        "#!pip install transformers # Ialready have it that is why I have commented on it\n",
        "\n",
        "from transformers import BertTokenizer, BertModel\n",
        "import torch\n",
        "from sklearn.metrics.pairwise import cosine_similarity\n",
        "\n",
        "# Loading BERT model and tokenizer\n",
        "tokenizer = BertTokenizer.from_pretrained('bert-base-uncased')\n",
        "model = BertModel.from_pretrained('bert-base-uncased')\n",
        "\n",
        "# Defining the movie reviews. Fiction work!\n",
        "reviews = [\"A student like me should not watch bad movies like this\",\n",
        "    \"The movie was absolutely fantastic!\",\n",
        "    \"I found the film boring and slow.\",\n",
        "    \" Average movie\",\n",
        "    \"A delightful and heartwarming experience.\"]\n",
        "\n",
        "# Defining a query for similarity matching\n",
        "query = \"The movie was heartwarming and emotional.\"\n",
        "\n",
        "#Function to get BERT embeddings for a given text\n",
        "def get_bert_embedding(text):\n",
        "    inputs = tokenizer(text, return_tensors='pt', padding=True, truncation=True)\n",
        "    outputs = model(**inputs)\n",
        "    return outputs.last_hidden_state.mean(dim=1).detach().numpy()\n",
        "\n",
        "# Getting the BERT embedding for the query\n",
        "query_embedding = get_bert_embedding(query)\n",
        "\n",
        "# Computing cosine similarities between the query and each review\n",
        "similarities = []\n",
        "for review in reviews:\n",
        "    review_embedding = get_bert_embedding(review)\n",
        "    similarity = cosine_similarity(query_embedding, review_embedding)[0][0]\n",
        "    similarities.append((review, similarity))\n",
        "\n",
        "# Sorting the reviews by similarity in descending order\n",
        "similarities.sort(key=lambda x: x[1], reverse=True)\n",
        "\n",
        "# Displaying the ranked reviews based on similarity to the query\n",
        "print(\"Ranked Reviews by Similarity: \")\n",
        "for review, score in similarities:\n",
        "    print(\"*******\")\n",
        "    print(f\"Review: {review} -----> Similarity Score: {score}\")\n",
        "\n",
        "\n"
      ]
    },
    {
      "cell_type": "markdown",
      "source": [
        "# Mandatory Question"
      ],
      "metadata": {
        "id": "VEs-OoDEhTW4"
      }
    },
    {
      "cell_type": "markdown",
      "source": [
        "**Important: Reflective Feedback on this exercise**\n",
        "\n",
        "Please provide your thoughts and feedback on the exercises you completed in this assignment. Consider the following points in your response:\n",
        "\n",
        "Learning Experience: Describe your overall learning experience in working on extracting features from text data. What were the key concepts or techniques you found most beneficial in understanding the process?\n",
        "\n",
        "Challenges Encountered: Were there specific difficulties in completing this exercise?\n",
        "\n",
        "Relevance to Your Field of Study: How does this exercise relate to the field of NLP?\n",
        "\n",
        "**(Your submission will not be graded if this question is left unanswered)**\n",
        "\n"
      ],
      "metadata": {
        "id": "IUKC7suYhVl0"
      }
    },
    {
      "cell_type": "code",
      "source": [
        "# Your answer here (no code for this question, write down your answer as detail as possible for the above questions):\n",
        "\n",
        "'''\n",
        "I must admit that the experience was great with extracting features from text data. I found out that most of the\n",
        "libraries I used almost got the work done. I must say that I did not struggle much, only that a few errors kept popping\n",
        "around. This exercise sits very well with the natural language processing and it has really challenged me to work on\n",
        "more such exercises.\n",
        "\n",
        "\n",
        "\n",
        "\n",
        "\n",
        "'''"
      ],
      "metadata": {
        "id": "CAq0DZWAhU9m",
        "colab": {
          "base_uri": "https://localhost:8080/",
          "height": 70
        },
        "outputId": "d7f1ddbc-d4dd-48d5-e7fb-b1af520e1d6e"
      },
      "execution_count": null,
      "outputs": [
        {
          "output_type": "execute_result",
          "data": {
            "text/plain": [
              "'\\nI must admit that the experience was great with extracting features from text data. I found out that most of the\\nlibraries I used almost got the work done. I must say that I did not struggle much, only that a few errors kept popping\\naround. This exercise sits very well with the natural language processing and it has really challenged me to work on\\nmore such exercises.\\n\\n\\n\\n\\n\\n'"
            ],
            "application/vnd.google.colaboratory.intrinsic+json": {
              "type": "string"
            }
          },
          "metadata": {},
          "execution_count": 18
        }
      ]
    }
  ],
  "metadata": {
    "kernelspec": {
      "display_name": "Python 3 (ipykernel)",
      "language": "python",
      "name": "python3"
    },
    "language_info": {
      "codemirror_mode": {
        "name": "ipython",
        "version": 3
      },
      "file_extension": ".py",
      "mimetype": "text/x-python",
      "name": "python",
      "nbconvert_exporter": "python",
      "pygments_lexer": "ipython3",
      "version": "3.9.12"
    },
    "colab": {
      "provenance": [],
      "include_colab_link": true
    }
  },
  "nbformat": 4,
  "nbformat_minor": 0
}